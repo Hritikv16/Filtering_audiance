{
 "cells": [
  {
   "cell_type": "code",
   "execution_count": 1,
   "id": "60f87e29-adf5-4b19-a86a-c96b199b3f56",
   "metadata": {},
   "outputs": [],
   "source": [
    "import pandas as pd"
   ]
  },
  {
   "cell_type": "code",
   "execution_count": null,
   "id": "2735ffc2-7cdc-42f6-8c19-e539815e79c5",
   "metadata": {},
   "outputs": [],
   "source": [
    "read_csc(\"\")"
   ]
  }
 ],
 "metadata": {
  "kernelspec": {
   "display_name": "Python 3 (ipykernel)",
   "language": "python",
   "name": "python3"
  },
  "language_info": {
   "codemirror_mode": {
    "name": "ipython",
    "version": 3
   },
   "file_extension": ".py",
   "mimetype": "text/x-python",
   "name": "python",
   "nbconvert_exporter": "python",
   "pygments_lexer": "ipython3",
   "version": "3.10.11"
  }
 },
 "nbformat": 4,
 "nbformat_minor": 5
}
